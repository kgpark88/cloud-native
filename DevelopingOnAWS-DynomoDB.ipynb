{
 "cells": [
  {
   "cell_type": "code",
   "execution_count": 1,
   "id": "connected-agreement",
   "metadata": {},
   "outputs": [
    {
     "name": "stdout",
     "output_type": "stream",
     "text": [
      "Requirement already satisfied: boto3 in c:\\python38\\lib\\site-packages (1.24.68)\n",
      "Requirement already satisfied: botocore<1.28.0,>=1.27.68 in c:\\python38\\lib\\site-packages (from boto3) (1.27.68)\n",
      "Requirement already satisfied: s3transfer<0.7.0,>=0.6.0 in c:\\python38\\lib\\site-packages (from boto3) (0.6.0)\n",
      "Requirement already satisfied: jmespath<2.0.0,>=0.7.1 in c:\\python38\\lib\\site-packages (from boto3) (1.0.1)\n",
      "Requirement already satisfied: urllib3<1.27,>=1.25.4 in c:\\python38\\lib\\site-packages (from botocore<1.28.0,>=1.27.68->boto3) (1.25.11)\n",
      "Requirement already satisfied: python-dateutil<3.0.0,>=2.1 in c:\\users\\danny\\appdata\\roaming\\python\\python38\\site-packages (from botocore<1.28.0,>=1.27.68->boto3) (2.8.1)\n",
      "Requirement already satisfied: six>=1.5 in c:\\python38\\lib\\site-packages (from python-dateutil<3.0.0,>=2.1->botocore<1.28.0,>=1.27.68->boto3) (1.16.0)\n"
     ]
    },
    {
     "name": "stderr",
     "output_type": "stream",
     "text": [
      "WARNING: You are using pip version 21.0.1; however, version 22.2.2 is available.\n",
      "You should consider upgrading via the 'c:\\python38\\python.exe -m pip install --upgrade pip' command.\n"
     ]
    }
   ],
   "source": [
    "!pip install boto3"
   ]
  },
  {
   "cell_type": "code",
   "execution_count": 2,
   "id": "affiliated-savage",
   "metadata": {},
   "outputs": [],
   "source": [
    "import boto3, botocore, configparser, json"
   ]
  },
  {
   "cell_type": "markdown",
   "id": "adjustable-member",
   "metadata": {},
   "source": [
    "## 0. Delete table : Notes"
   ]
  },
  {
   "cell_type": "code",
   "execution_count": 3,
   "id": "exterior-daily",
   "metadata": {},
   "outputs": [
    {
     "name": "stdout",
     "output_type": "stream",
     "text": [
      "Deleting Notes table...\n"
     ]
    }
   ],
   "source": [
    "dyn_resource = boto3.resource('dynamodb')\n",
    "table = dyn_resource.Table('Notes')\n",
    "table.delete()\n",
    "print(f\"Deleting Notes table...\")\n",
    "table.wait_until_not_exists()"
   ]
  },
  {
   "cell_type": "markdown",
   "id": "broken-entry",
   "metadata": {},
   "source": [
    "## 1. Creating an Amazon DynamoDB table : createTable.py"
   ]
  },
  {
   "cell_type": "code",
   "execution_count": 4,
   "id": "extensive-pierce",
   "metadata": {},
   "outputs": [],
   "source": [
    "def createTable(ddbClient, tableDefinition):\n",
    "    response = ddbClient.create_table(\n",
    "        AttributeDefinitions=[\n",
    "            {\n",
    "                'AttributeName': tableDefinition[\"partitionKey\"],\n",
    "                'AttributeType': 'S',\n",
    "            },\n",
    "            {\n",
    "                'AttributeName': tableDefinition[\"sortKey\"],\n",
    "                'AttributeType': 'N',\n",
    "            },\n",
    "        ],\n",
    "        KeySchema=[\n",
    "            {\n",
    "                'AttributeName': tableDefinition[\"partitionKey\"],\n",
    "                'KeyType': 'HASH',\n",
    "            },\n",
    "            {\n",
    "                'AttributeName': tableDefinition[\"sortKey\"],\n",
    "                'KeyType': 'RANGE',\n",
    "            },\n",
    "        ],\n",
    "        ProvisionedThroughput={\n",
    "            'ReadCapacityUnits': int(tableDefinition[\"readCapacity\"]),\n",
    "            'WriteCapacityUnits': int(tableDefinition[\"writeCapacity\"]),\n",
    "        },\n",
    "        TableName=tableDefinition[\"tableName\"]\n",
    "    )\n",
    "    return response"
   ]
  },
  {
   "cell_type": "code",
   "execution_count": 5,
   "id": "formal-unknown",
   "metadata": {},
   "outputs": [],
   "source": [
    "def waitForTableCreation(ddbClient, tableName):\n",
    "    waiter = ddbClient.get_waiter('table_exists')\n",
    "    waiter.wait(\n",
    "        TableName=tableName\n",
    "    )"
   ]
  },
  {
   "cell_type": "code",
   "execution_count": 6,
   "id": "exterior-carry",
   "metadata": {},
   "outputs": [],
   "source": [
    "def getTableInfo(ddbClient, tableName):\n",
    "    response = ddbClient.describe_table(\n",
    "        TableName=tableName\n",
    "    )\n",
    "    return response"
   ]
  },
  {
   "cell_type": "code",
   "execution_count": 7,
   "id": "personal-argentina",
   "metadata": {},
   "outputs": [],
   "source": [
    "def readConfig():\n",
    "    config = configparser.ConfigParser()\n",
    "    config.read('./config.ini')\n",
    "    return config['DynamoDB']"
   ]
  },
  {
   "cell_type": "code",
   "execution_count": 8,
   "id": "technological-flush",
   "metadata": {},
   "outputs": [],
   "source": [
    "ddbClient = boto3.client('dynamodb')"
   ]
  },
  {
   "cell_type": "code",
   "execution_count": 9,
   "id": "superior-pantyhose",
   "metadata": {},
   "outputs": [],
   "source": [
    "config = readConfig()"
   ]
  },
  {
   "cell_type": "code",
   "execution_count": 10,
   "id": "knowing-hollow",
   "metadata": {},
   "outputs": [],
   "source": [
    "tableDefinition = {\n",
    "    'tableName': config[\"tableName\"],\n",
    "    'partitionKey': config[\"partitionKey\"],\n",
    "    'sortKey': config[\"sortKey\"],\n",
    "    'readCapacity': config[\"readCapacity\"],\n",
    "    'writeCapacity': config[\"writeCapacity\"]\n",
    "    }"
   ]
  },
  {
   "cell_type": "code",
   "execution_count": 11,
   "id": "experimental-elephant",
   "metadata": {},
   "outputs": [
    {
     "data": {
      "text/plain": [
       "{'tableName': 'Notes',\n",
       " 'partitionKey': 'UserId',\n",
       " 'sortKey': 'NoteId',\n",
       " 'readCapacity': '1',\n",
       " 'writeCapacity': '1'}"
      ]
     },
     "execution_count": 11,
     "metadata": {},
     "output_type": "execute_result"
    }
   ],
   "source": [
    "tableDefinition"
   ]
  },
  {
   "cell_type": "code",
   "execution_count": 12,
   "id": "arabic-faculty",
   "metadata": {},
   "outputs": [
    {
     "name": "stdout",
     "output_type": "stream",
     "text": [
      "Creating an Amazon DynamoDB table: Notes with a partition key: UserId and sort key: NoteId\n"
     ]
    }
   ],
   "source": [
    "print(f\"Creating an Amazon DynamoDB table: {config['tableName']} with a partition key: {config['partitionKey']} and sort key: {config['sortKey']}\")\n",
    "creationResponse = createTable(ddbClient, tableDefinition)"
   ]
  },
  {
   "cell_type": "markdown",
   "id": "operational-finland",
   "metadata": {},
   "source": [
    "## 2. 테이블에 데이터 로드 : loadData.py"
   ]
  },
  {
   "cell_type": "code",
   "execution_count": 21,
   "id": "residential-motor",
   "metadata": {},
   "outputs": [],
   "source": [
    "import boto3, botocore, configparser, json"
   ]
  },
  {
   "cell_type": "code",
   "execution_count": 22,
   "id": "infinite-niagara",
   "metadata": {},
   "outputs": [],
   "source": [
    "def putNote(table, note):\n",
    "    print(\"loading note \" + str(note))    \n",
    "    table.put_item(\n",
    "        Item={\n",
    "            'UserId': note[\"UserId\"],\n",
    "            'NoteId': int(note[\"NoteId\"]),\n",
    "            'Note': note[\"Note\"]\n",
    "        }\n",
    "    )"
   ]
  },
  {
   "cell_type": "code",
   "execution_count": 23,
   "id": "spectacular-judgment",
   "metadata": {},
   "outputs": [],
   "source": [
    "ddbResource = boto3.resource('dynamodb')"
   ]
  },
  {
   "cell_type": "code",
   "execution_count": 24,
   "id": "clinical-uganda",
   "metadata": {},
   "outputs": [
    {
     "name": "stdout",
     "output_type": "stream",
     "text": [
      "Loading Notes table with data from file ./notes.json\n",
      "loading note {'UserId': 'testuser', 'NoteId': '001', 'Note': 'hello'}\n",
      "loading note {'UserId': 'testuser', 'NoteId': '002', 'Note': 'this is my first note'}\n",
      "loading note {'UserId': 'newbie', 'NoteId': '001', 'Note': 'Free swag code: 1234'}\n",
      "loading note {'UserId': 'newbie', 'NoteId': '002', 'Note': 'I love DynamoDB'}\n",
      "loading note {'UserId': 'student', 'NoteId': '001', 'Note': 'DynamoDB is NoSQL'}\n",
      "loading note {'UserId': 'student', 'NoteId': '002', 'Note': 'A DynamoDB table is schemaless'}\n",
      "loading note {'UserId': 'student', 'NoteId': '003', 'Note': 'PartiQL is a SQL compatible language for DynamoDB'}\n",
      "loading note {'UserId': 'student', 'NoteId': '005', 'Note': 'Maximum size of an item is ____ KB ?'}\n",
      "loading note {'UserId': 'student', 'NoteId': '004', 'Note': 'I love DyDB'}\n",
      "Finished loading notes from the JSON file\n"
     ]
    }
   ],
   "source": [
    "tableName = config['tableName']\n",
    "jsonFileName = config['sourcenotes']\n",
    "\n",
    "# Opening JSON file\n",
    "f = open(jsonFileName)\n",
    "\n",
    "print(f\"Loading {tableName} table with data from file {jsonFileName}\")\n",
    "# Load json object from file\n",
    "notes = json.load(f)\n",
    "\n",
    "# Create dynamodb table resource\n",
    "table = ddbResource.Table(tableName)\n",
    "\n",
    "# Iterating through the notes and putting them in the table\n",
    "for n in notes:\n",
    "    putNote(table, n)\n",
    "\n",
    "# Closing the JSON file\n",
    "f.close()\n",
    "print(\"Finished loading notes from the JSON file\")"
   ]
  },
  {
   "cell_type": "markdown",
   "id": "blank-lecture",
   "metadata": {},
   "source": [
    "## 3. 파티션 키 및 프로젝션을 사용하여 데이터 쿼리 : loadData.py"
   ]
  },
  {
   "cell_type": "code",
   "execution_count": 25,
   "id": "organized-commons",
   "metadata": {},
   "outputs": [],
   "source": [
    "import boto3, botocore, json, decimal, configparser\n",
    "from boto3.dynamodb.conditions import Key, Attr\n",
    "from boto3.dynamodb.types import TypeDeserializer"
   ]
  },
  {
   "cell_type": "code",
   "execution_count": 26,
   "id": "departmental-canada",
   "metadata": {},
   "outputs": [],
   "source": [
    "config = readConfig()\n",
    "tableName = config['tableName']\n",
    "UserId = config['queryUserId']"
   ]
  },
  {
   "cell_type": "code",
   "execution_count": 27,
   "id": "framed-pottery",
   "metadata": {},
   "outputs": [],
   "source": [
    "def queryNotesByPartitionKey(ddbClient, tableName, qUserId):   \n",
    "    response = ddbClient.query(\n",
    "        TableName=tableName,\n",
    "        KeyConditionExpression='UserId = :userId',\n",
    "        ExpressionAttributeValues={\n",
    "            ':userId': {\"S\": qUserId}\n",
    "        },\n",
    "        ProjectionExpression=\"NoteId, Note\"\n",
    "    )\n",
    "    return response[\"Items\"]"
   ]
  },
  {
   "cell_type": "code",
   "execution_count": 28,
   "id": "bibliographic-newsletter",
   "metadata": {},
   "outputs": [],
   "source": [
    "## Utility methods\n",
    "def printNotes(notes):\n",
    "    if isinstance(notes, list):\n",
    "        for note in notes:\n",
    "            print(\n",
    "                json.dumps(\n",
    "                    {key: TypeDeserializer().deserialize(value) for key, value in note.items()},\n",
    "                    cls=DecimalEncoder\n",
    "                )\n",
    "            )"
   ]
  },
  {
   "cell_type": "code",
   "execution_count": 29,
   "id": "retired-mentor",
   "metadata": {},
   "outputs": [],
   "source": [
    "# Helper class to convert a DynamoDB item to JSON.\n",
    "class DecimalEncoder(json.JSONEncoder):\n",
    "    def default(self, o):\n",
    "        if isinstance(o, decimal.Decimal):\n",
    "            return str(o)\n",
    "        if isinstance(o, set):  # <---resolving sets as lists\n",
    "            return list(o)\n",
    "        return super(DecimalEncoder, self).default(o)"
   ]
  },
  {
   "cell_type": "code",
   "execution_count": 30,
   "id": "foster-spending",
   "metadata": {},
   "outputs": [
    {
     "name": "stdout",
     "output_type": "stream",
     "text": [
      "\n",
      "************\n",
      "Querying for notes that belong to user student...\n",
      "\n",
      "{\"Note\": \"DynamoDB is NoSQL\", \"NoteId\": \"1\"}\n",
      "{\"Note\": \"A DynamoDB table is schemaless\", \"NoteId\": \"2\"}\n",
      "{\"Note\": \"PartiQL is a SQL compatible language for DynamoDB\", \"NoteId\": \"3\"}\n",
      "{\"Note\": \"I love DyDB\", \"NoteId\": \"4\"}\n",
      "{\"Note\": \"Maximum size of an item is ____ KB ?\", \"NoteId\": \"5\"}\n"
     ]
    }
   ],
   "source": [
    "ddbClient = boto3.client('dynamodb')\n",
    "\n",
    "print(f\"\\n************\\nQuerying for notes that belong to user {UserId}...\\n\")\n",
    "printNotes(queryNotesByPartitionKey(ddbClient, tableName, UserId))"
   ]
  },
  {
   "cell_type": "markdown",
   "id": "systematic-peninsula",
   "metadata": {},
   "source": [
    "## 4: Paginator를 사용하여 테이블 스캔 : paginateData.py"
   ]
  },
  {
   "cell_type": "code",
   "execution_count": 31,
   "id": "endless-scout",
   "metadata": {},
   "outputs": [],
   "source": [
    "import boto3, botocore, json, decimal, configparser\n",
    "from boto3.dynamodb.conditions import Key, Attr\n",
    "from boto3.dynamodb.types import TypeDeserializer"
   ]
  },
  {
   "cell_type": "code",
   "execution_count": 32,
   "id": "sacred-stroke",
   "metadata": {},
   "outputs": [],
   "source": [
    "def queryAllNotesPaginator(ddbClient, tableName, pageSize): \n",
    "    # Create a reusable Paginator\n",
    "    paginator = ddbClient.get_paginator('scan')\n",
    "\n",
    "    # Create a PageIterator from the Paginator\n",
    "    page_iterator = paginator.paginate(\n",
    "        TableName=tableName,\n",
    "        PaginationConfig={\n",
    "            'PageSize': pageSize\n",
    "        })\n",
    "\n",
    "    pageNumber = 0\n",
    "    for page in page_iterator:\n",
    "        if page[\"Count\"] > 0:\n",
    "            pageNumber += 1\n",
    "            print(\"Starting page \" + str(pageNumber))\n",
    "            printNotes(page['Items'])\n",
    "            print(\"End of page \" + str(pageNumber) + \"\\n\")"
   ]
  },
  {
   "cell_type": "code",
   "execution_count": 33,
   "id": "pleasant-involvement",
   "metadata": {},
   "outputs": [
    {
     "name": "stdout",
     "output_type": "stream",
     "text": [
      "\n",
      "************\n",
      "Scanning with pagination...\n",
      "\n",
      "Starting page 1\n",
      "{\"Note\": \"hello\", \"UserId\": \"testuser\", \"NoteId\": \"1\"}\n",
      "{\"Note\": \"this is my first note\", \"UserId\": \"testuser\", \"NoteId\": \"2\"}\n",
      "{\"Note\": \"DynamoDB is NoSQL\", \"UserId\": \"student\", \"NoteId\": \"1\"}\n",
      "End of page 1\n",
      "\n",
      "Starting page 2\n",
      "{\"Note\": \"A DynamoDB table is schemaless\", \"UserId\": \"student\", \"NoteId\": \"2\"}\n",
      "{\"Note\": \"PartiQL is a SQL compatible language for DynamoDB\", \"UserId\": \"student\", \"NoteId\": \"3\"}\n",
      "{\"Note\": \"I love DyDB\", \"UserId\": \"student\", \"NoteId\": \"4\"}\n",
      "End of page 2\n",
      "\n",
      "Starting page 3\n",
      "{\"Note\": \"Maximum size of an item is ____ KB ?\", \"UserId\": \"student\", \"NoteId\": \"5\"}\n",
      "{\"Note\": \"Free swag code: 1234\", \"UserId\": \"newbie\", \"NoteId\": \"1\"}\n",
      "{\"Note\": \"I love DynamoDB\", \"UserId\": \"newbie\", \"NoteId\": \"2\"}\n",
      "End of page 3\n",
      "\n"
     ]
    }
   ],
   "source": [
    "config = readConfig()\n",
    "tableName = config['tableName']\n",
    "pageSize = config['pageSize']\n",
    "\n",
    "ddbClient = boto3.client('dynamodb')\n",
    "\n",
    "print(\"\\n************\\nScanning with pagination...\\n\")\n",
    "queryAllNotesPaginator(ddbClient, tableName, pageSize)"
   ]
  },
  {
   "cell_type": "markdown",
   "id": "superb-taxation",
   "metadata": {},
   "source": [
    "## 5. 테이블의 항목 업데이트 : updateItem.py"
   ]
  },
  {
   "cell_type": "code",
   "execution_count": 34,
   "id": "smoking-bishop",
   "metadata": {},
   "outputs": [],
   "source": [
    "import boto3, botocore, configparser"
   ]
  },
  {
   "cell_type": "code",
   "execution_count": 35,
   "id": "environmental-sauce",
   "metadata": {},
   "outputs": [],
   "source": [
    "def updateNewAttribute(ddbClient, tableName, qUserId, qNoteId):    \n",
    "    ## TODO  : Add code to set an 'Is_Incomplete' flag to 'Yes' for the note that matches the \n",
    "    ## provided function parameters\n",
    "    response = ddbClient.update_item(\n",
    "        TableName=tableName,\n",
    "        Key={\n",
    "            'UserId': {'S': qUserId},\n",
    "            'NoteId': {'N': str(qNoteId)}\n",
    "        },\n",
    "        ReturnValues='ALL_NEW',\n",
    "        UpdateExpression='SET Is_Incomplete = :incomplete',\n",
    "        ExpressionAttributeValues={\n",
    "            ':incomplete': {'S': 'Yes'}\n",
    "        }\n",
    "    )\n",
    "    return response['Attributes']"
   ]
  },
  {
   "cell_type": "code",
   "execution_count": 36,
   "id": "monetary-newsletter",
   "metadata": {},
   "outputs": [],
   "source": [
    "def updateExistingAttributeConditionally(ddbClient, tableName, qUserId, qNoteId, notePrefix):\n",
    "    try:\n",
    "        ## TODO  Add code to update the Notes attribute for the note that matches \n",
    "        # the passed function parameters only if the 'Is_Incomplete' attribute is 'Yes'\n",
    "        \n",
    "        notePrefix += ' 400 KB'\n",
    "        response = ddbClient.update_item(\n",
    "            TableName=tableName,\n",
    "            Key={\n",
    "                'UserId': {'S': qUserId},\n",
    "                'NoteId': {'N': str(qNoteId)}\n",
    "            },\n",
    "            ReturnValues='ALL_NEW',\n",
    "            UpdateExpression='SET Note = :NewNote, Is_Incomplete = :new_incomplete',\n",
    "            ConditionExpression='Is_Incomplete = :old_incomplete',\n",
    "            ExpressionAttributeValues={\n",
    "                ':NewNote': {'S': notePrefix},\n",
    "                ':new_incomplete': {'S': 'No'},\n",
    "                ':old_incomplete': {'S': 'Yes'}\n",
    "            }\n",
    "        )\n",
    "        \n",
    "        return response['Attributes']\n",
    "    except botocore.exceptions.ClientError as err:\n",
    "        if err.response['Error']['Code'] == 'ConditionalCheckFailedException':\n",
    "            return \"Sorry, your update is invalid mate!\"\n",
    "        else:\n",
    "            return err.response['Error']['Message']\n"
   ]
  },
  {
   "cell_type": "code",
   "execution_count": 37,
   "id": "allied-shift",
   "metadata": {},
   "outputs": [
    {
     "name": "stdout",
     "output_type": "stream",
     "text": [
      "\n",
      "Updating the note flag for remediation...\n",
      "\n",
      "{'Note': {'S': 'Maximum size of an item is ____ KB ?'}, 'UserId': {'S': 'student'}, 'NoteId': {'N': '5'}, 'Is_Incomplete': {'S': 'Yes'}}\n"
     ]
    }
   ],
   "source": [
    "config = readConfig()\n",
    "tableName = config['tableName']\n",
    "qUserId = config['queryUserId']\n",
    "qNoteId = config['queryNoteId']\n",
    "notePrefix = config['notePrefix']\n",
    "\n",
    "ddbClient = boto3.client('dynamodb')\n",
    "\n",
    "print(\"\\nUpdating the note flag for remediation...\\n\")\n",
    "print(updateNewAttribute(ddbClient, tableName, qUserId, qNoteId))"
   ]
  },
  {
   "cell_type": "code",
   "execution_count": 38,
   "id": "native-feature",
   "metadata": {},
   "outputs": [
    {
     "name": "stdout",
     "output_type": "stream",
     "text": [
      "\n",
      "Remediating the marked note...\n",
      "\n",
      "{'Note': {'S': 'The maximum item size in DynamoDB is 400 KB'}, 'UserId': {'S': 'student'}, 'NoteId': {'N': '5'}, 'Is_Incomplete': {'S': 'No'}}\n"
     ]
    }
   ],
   "source": [
    "print(\"\\nRemediating the marked note...\\n\")\n",
    "print(updateExistingAttributeConditionally(ddbClient, tableName, qUserId, qNoteId, notePrefix))"
   ]
  },
  {
   "cell_type": "markdown",
   "id": "enormous-waters",
   "metadata": {},
   "source": [
    "##  6. DynamoDB용 PartiQL(SQL 호환 쿼리 언어) 사용 : partiQL.py\n"
   ]
  },
  {
   "cell_type": "code",
   "execution_count": 39,
   "id": "composite-research",
   "metadata": {},
   "outputs": [],
   "source": [
    "import boto3, botocore, json, decimal, configparser\n",
    "from boto3.dynamodb.conditions import Key, Attr\n",
    "from boto3.dynamodb.types import TypeDeserializer"
   ]
  },
  {
   "cell_type": "code",
   "execution_count": 40,
   "id": "conditional-controversy",
   "metadata": {},
   "outputs": [],
   "source": [
    "def querySpecificNote(ddbClient, tableName, qUserId, qNoteId):    \n",
    "    response = ddbClient.execute_statement(\n",
    "        Statement=\"SELECT * FROM \" + tableName + \" WHERE UserId = ? AND NoteId = ?\",\n",
    "        Parameters=[\n",
    "            {\"S\": qUserId},\n",
    "            {\"N\": str(qNoteId)}\n",
    "        ]\n",
    "    )    \n",
    "    return response[\"Items\"]"
   ]
  },
  {
   "cell_type": "code",
   "execution_count": 41,
   "id": "korean-binary",
   "metadata": {},
   "outputs": [
    {
     "name": "stdout",
     "output_type": "stream",
     "text": [
      "\n",
      "************\n",
      "Querying for note 5 that belongs to user student...\n",
      "\n",
      "{\"Note\": \"The maximum item size in DynamoDB is 400 KB\", \"UserId\": \"student\", \"NoteId\": \"5\", \"Is_Incomplete\": \"No\"}\n"
     ]
    }
   ],
   "source": [
    "config = readConfig()\n",
    "tableName = config['tableName']\n",
    "UserId = config['queryUserId']\n",
    "NoteId = config['queryNoteId']\n",
    "\n",
    "ddbClient = boto3.client('dynamodb')\n",
    "\n",
    "print(f\"\\n************\\nQuerying for note {NoteId} that belongs to user {UserId}...\\n\")\n",
    "printNotes(querySpecificNote(ddbClient, tableName, UserId, NoteId))"
   ]
  },
  {
   "cell_type": "code",
   "execution_count": null,
   "id": "skilled-bookmark",
   "metadata": {},
   "outputs": [],
   "source": []
  },
  {
   "cell_type": "code",
   "execution_count": null,
   "id": "corporate-killer",
   "metadata": {},
   "outputs": [],
   "source": []
  }
 ],
 "metadata": {
  "kernelspec": {
   "display_name": "Python 3",
   "language": "python",
   "name": "python3"
  },
  "language_info": {
   "codemirror_mode": {
    "name": "ipython",
    "version": 3
   },
   "file_extension": ".py",
   "mimetype": "text/x-python",
   "name": "python",
   "nbconvert_exporter": "python",
   "pygments_lexer": "ipython3",
   "version": "3.8.7"
  }
 },
 "nbformat": 4,
 "nbformat_minor": 5
}
